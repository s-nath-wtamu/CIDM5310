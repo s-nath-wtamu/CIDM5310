{
 "cells": [
  {
   "cell_type": "code",
   "execution_count": 70,
   "metadata": {},
   "outputs": [
    {
     "name": "stdout",
     "output_type": "stream",
     "text": [
      "[84442.0, 75795.0, 42057.0, 25892.0, 51127.0, 40493.0, 78380.0, 30331.0, 47660.0, 58338.0, 90811.0, 50469.0, 28184.0, 75580.0, 61837.0, 25051.0, 90975.0, 98279.0, 81022.0, 90217.0, 31015.0, 72983.0, 89884.0, 68398.0, 47214.0, 10070.0, 43417.0, 61089.0, 91301.0, 96661.0, 47701.0, 86531.0, 26049.0, 80503.0, 54870.0, 1404.0, 71970.0, 39882.0, 82484.0, 66815.0, 114.0, 49358.0, 86760.0, 24391.0, 32520.0, 87047.0, 19107.0, 56751.0, 23862.0, 96754.0, 80318.0, 44797.0, 8045.0, 32005.0, 50794.0, 93283.0, 10906.0, 55127.0, 70656.0, 54744.0, 81447.0, 54028.0, 96384.0, 60319.0, 58762.0, 44499.0, 59629.0, 38490.0, 57565.0, 29033.0, 18939.0, 18673.0, 61277.0, 65666.0, 47653.0, 8982.0, 75760.0, 87677.0, 92338.0, 84246.0, 89817.0, 92308.0, 54060.0, 39130.0, 70528.0, 27563.0, 81163.0, 84949.0, 89504.0, 58980.0, 94976.0, 57970.0, 45056.0, 66025.0, 99626.0, 91694.0, 79333.0, 8237.0, 61278.0, 48644.0]\n",
      "*******************************************\n",
      "************Question 5 answers*************\n",
      "*******************************************\n",
      "************Mean of Salaries using arithmetic*************\n",
      "58567.28\n",
      "************Mean of Salaries using statistics module*************\n",
      "58567.28\n",
      "************Median of Salaries using arithmetic*************\n",
      "58871.0\n",
      "************Median of Salaries using functions**************\n",
      "58871.0\n",
      "************Mode of Salaries using counter function**************\n",
      "114.0\n",
      "************Mode of Salaries using statistics module**************\n",
      "114.0\n",
      "*******************************************\n",
      "************Question 6 answers*************\n",
      "*******************************************\n",
      "************Range of Values**************\n",
      "max salary:\n",
      "99626.0\n",
      "min salary:\n",
      "114.0\n",
      "salary range:\n",
      "99512.0\n",
      "************coefficient of variation**************\n",
      "0.4538736683356026\n",
      "************interquartile range**************\n"
     ]
    }
   ],
   "source": [
    "import pandas as pd\n",
    "import random\n",
    "import statistics\n",
    "random.seed(0)\n",
    "salaries = [round(random.random()*100000, 0) for _ in range(100)]\n",
    "print(salaries)\n",
    "print (\"*******************************************\")\n",
    "print (\"************Question 5 answers*************\")\n",
    "print (\"*******************************************\")\n",
    "\n",
    "print (\"************Mean of Salaries using arithmetic*************\")\n",
    "print (sum(salaries) / len(salaries))\n",
    "print (\"************Mean of Salaries using statistics module*************\")\n",
    "salaries_mean = statistics.mean(salaries)\n",
    "print (salaries_mean)\n",
    "\n",
    "print (\"************Median of Salaries using arithmetic*************\")\n",
    "import math\n",
    "def find_median(x):\n",
    "    x.sort()\n",
    "    midpoint = (len(x) + 1) / 2 - 1 # subtract 1 bc index starts at 0\n",
    "    if len(x) % 2:\n",
    "        # x has odd number of values\n",
    "        return x[int(midpoint)]\n",
    "    else:\n",
    "        return (x[math.floor(midpoint)] + x[math.ceil(midpoint)]) / 2\n",
    "\n",
    "y= find_median(salaries)\n",
    "print(y)\n",
    "\n",
    "salaries_median = statistics.median(salaries)\n",
    "print (\"************Median of Salaries using functions**************\")\n",
    "print (salaries_median)\n",
    "\n",
    "print (\"************Mode of Salaries using counter function**************\")\n",
    "\n",
    "from statistics import mode\n",
    "from collections import Counter\n",
    "\n",
    "print (Counter(salaries).most_common(1)[0][0])\n",
    "\n",
    "print (\"************Mode of Salaries using statistics module**************\")\n",
    "print (mode(salaries))\n",
    "\n",
    "print (\"*******************************************\")\n",
    "print (\"************Question 6 answers*************\")\n",
    "print (\"*******************************************\")\n",
    "\n",
    "print (\"************Range of Values**************\")\n",
    "print(\"max salary:\")\n",
    "print(max(salaries))\n",
    "print(\"min salary:\")\n",
    "print(min(salaries))\n",
    "print(\"salary range:\")\n",
    "print (max(salaries) - min(salaries))\n",
    "\n",
    "print (\"************coefficient of variation**************\")\n",
    "\n",
    "from statistics import mean, stdev\n",
    "\n",
    "print(stdev(salaries) / mean(salaries))\n",
    "\n",
    "\n",
    "\n",
    "\n",
    "\n",
    "    \n",
    "    \n",
    "    \n",
    "    \n",
    "    \n",
    "    \n"
   ]
  },
  {
   "cell_type": "code",
   "execution_count": 64,
   "metadata": {},
   "outputs": [
    {
     "name": "stdout",
     "output_type": "stream",
     "text": [
      "************interquartile range**************\n"
     ]
    }
   ],
   "source": [
    "#************interquartile range**************\n",
    "print (\"************interquartile range**************\")\n",
    "\n",
    "import math\n",
    "\n",
    "def quantile(x, pct):\n",
    "    x.sort()\n",
    "    index = (len(x) + 1) * pct - 1\n",
    "    if len(x) % 2:\n",
    "        # odd, so grab the value at index\n",
    "        return x[int(index)]\n",
    "    else:\n",
    "        return (x[math.floor(index)] + x[math.ceil(index)]) / 2\n",
    "\n",
    "    print(sum([x < quantile(salaries, 0.25) for x in salaries])) \n",
    "    "
   ]
  },
  {
   "cell_type": "code",
   "execution_count": 65,
   "metadata": {},
   "outputs": [
    {
     "data": {
      "text/plain": [
       "True"
      ]
     },
     "execution_count": 65,
     "metadata": {},
     "output_type": "execute_result"
    }
   ],
   "source": [
    "    sum([x < quantile(salaries, 0.25) for x in salaries]) / len(salaries) == 0.25\n"
   ]
  },
  {
   "cell_type": "code",
   "execution_count": 66,
   "metadata": {},
   "outputs": [
    {
     "data": {
      "text/plain": [
       "True"
      ]
     },
     "execution_count": 66,
     "metadata": {},
     "output_type": "execute_result"
    }
   ],
   "source": [
    "    sum([x < quantile(salaries, 0.75) for x in salaries]) / len(salaries) == 0.75\n"
   ]
  },
  {
   "cell_type": "code",
   "execution_count": 69,
   "metadata": {},
   "outputs": [
    {
     "data": {
      "text/plain": [
       "41778.0"
      ]
     },
     "execution_count": 69,
     "metadata": {},
     "output_type": "execute_result"
    }
   ],
   "source": [
    "q3, q1 = quantile(salaries, 0.75), quantile(salaries, 0.25)\n",
    "    iqr = q3 - q1\n",
    "    iqr"
   ]
  },
  {
   "cell_type": "markdown",
   "metadata": {},
   "source": [
    "    #quartile coefficent of dispersion"
   ]
  },
  {
   "cell_type": "code",
   "execution_count": 71,
   "metadata": {},
   "outputs": [
    {
     "data": {
      "text/plain": [
       "0.3420137041251545"
      ]
     },
     "execution_count": 71,
     "metadata": {},
     "output_type": "execute_result"
    }
   ],
   "source": [
    "iqr / (q1 + q3)"
   ]
  },
  {
   "cell_type": "markdown",
   "metadata": {},
   "source": [
    "Exercise 7: Scaling data\n",
    "min-max scaling\n"
   ]
  },
  {
   "cell_type": "code",
   "execution_count": 72,
   "metadata": {},
   "outputs": [
    {
     "data": {
      "text/plain": [
       "[0.0,\n",
       " 0.012963260712275906,\n",
       " 0.07969893078221722,\n",
       " 0.08162834633009085,\n",
       " 0.08911488061741298]"
      ]
     },
     "execution_count": 72,
     "metadata": {},
     "output_type": "execute_result"
    }
   ],
   "source": [
    "min_salary, max_salary = min(salaries), max(salaries)\n",
    "salary_range = max_salary - min_salary\n",
    "\n",
    "min_max_scaled = [(x - min_salary) / salary_range for x in salaries]\n",
    "min_max_scaled[:5]"
   ]
  },
  {
   "cell_type": "markdown",
   "metadata": {},
   "source": [
    "##### standardizing"
   ]
  },
  {
   "cell_type": "code",
   "execution_count": 73,
   "metadata": {},
   "outputs": [
    {
     "data": {
      "text/plain": [
       "[-2.1989676650087118,\n",
       " -2.150438852119833,\n",
       " -1.9006095138291015,\n",
       " -1.8933866207479662,\n",
       " -1.8653602908237688]"
      ]
     },
     "execution_count": 73,
     "metadata": {},
     "output_type": "execute_result"
    }
   ],
   "source": [
    "from statistics import mean, stdev\n",
    "\n",
    "mean_salary, std_salary = mean(salaries), stdev(salaries)\n",
    "\n",
    "standardized = [(x - mean_salary) / std_salary for x in salaries]\n",
    "standardized[:5]"
   ]
  },
  {
   "cell_type": "markdown",
   "metadata": {},
   "source": [
    "Exercise 8: Calculating covariance and correlation\n",
    "covariance"
   ]
  },
  {
   "cell_type": "code",
   "execution_count": 74,
   "metadata": {},
   "outputs": [
    {
     "data": {
      "text/plain": [
       "0.2644537820148122"
      ]
     },
     "execution_count": 74,
     "metadata": {},
     "output_type": "execute_result"
    }
   ],
   "source": [
    "from statistics import mean\n",
    "\n",
    "running_total = [\n",
    "    (x - mean(min_max_scaled)) * (y - mean(standardized))\n",
    "    for x, y in zip(min_max_scaled, standardized)\n",
    "]\n",
    "\n",
    "cov = mean(running_total)\n",
    "cov"
   ]
  },
  {
   "cell_type": "markdown",
   "metadata": {},
   "source": [
    "Pearson correlation coefficient (ρ)"
   ]
  },
  {
   "cell_type": "code",
   "execution_count": 75,
   "metadata": {},
   "outputs": [
    {
     "data": {
      "text/plain": [
       "0.99"
      ]
     },
     "execution_count": 75,
     "metadata": {},
     "output_type": "execute_result"
    }
   ],
   "source": [
    "from statistics import stdev\n",
    "cov / (stdev(min_max_scaled) * stdev(standardized))"
   ]
  },
  {
   "cell_type": "code",
   "execution_count": null,
   "metadata": {},
   "outputs": [],
   "source": []
  }
 ],
 "metadata": {
  "interpreter": {
   "hash": "a468e70d4527a8bbca6bdb65fc6c5890b5e2c19e3f1c2b21e48cc89f6748f428"
  },
  "kernelspec": {
   "display_name": "Python 3",
   "language": "python",
   "name": "python3"
  },
  "language_info": {
   "codemirror_mode": {
    "name": "ipython",
    "version": 3
   },
   "file_extension": ".py",
   "mimetype": "text/x-python",
   "name": "python",
   "nbconvert_exporter": "python",
   "pygments_lexer": "ipython3",
   "version": "3.9.5"
  }
 },
 "nbformat": 4,
 "nbformat_minor": 2
}
